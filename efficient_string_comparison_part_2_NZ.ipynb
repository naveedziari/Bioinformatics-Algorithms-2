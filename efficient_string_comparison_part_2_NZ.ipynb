{
  "nbformat": 4,
  "nbformat_minor": 0,
  "metadata": {
    "colab": {
      "name": "Copy of efficient string comparison part 2.ipynb",
      "version": "0.3.2",
      "provenance": [],
      "collapsed_sections": []
    },
    "kernelspec": {
      "name": "python3",
      "display_name": "Python 3"
    }
  },
  "cells": [
    {
      "metadata": {
        "id": "EWxTJeWpxuL_",
        "colab_type": "code",
        "colab": {}
      },
      "cell_type": "code",
      "source": [
        "# Problem 1: Build a simple, list based k-mer index of a string to be searched\n",
        "\n",
        "# Example adapted from Ben Langmead (thanks!)\n",
        "\n",
        "import bisect\n",
        "import sys\n",
        "\n",
        "class Index(object):\n",
        "    def __init__(self, t, k):\n",
        "      ''' Create index from all substrings of size 'length' '''\n",
        "      self.t = t\n",
        "      self.k = k  # k-mer length (k)\n",
        "      self.index = []\n",
        "        \n",
        "      # Code to complete:\n",
        "      # For each k-mer add (k-mer, offset) pair to index \n",
        "      # and the sort k-mers in lexicographic order\n",
        "      for i in range(0,len(t)-k+1):\n",
        "        self.index.append((t[i:i+k],i))\n",
        "      self.index.sort()\n",
        "        \n",
        "    \n",
        "    def queryKmer(self, kmer):\n",
        "      '''Return locations of kmer in t'''\n",
        "        \n",
        "      assert len(kmer) == self.k\n",
        "        \n",
        "      hits = [] \n",
        "        \n",
        "      # Code to complete:\n",
        "      # Find first location of kmer in self.index (hint: use bisect.bisect_left function)\n",
        "      # Iterate through self.index from first location of kmer to last adding matches to hits\n",
        "      \n",
        "      i = bisect.bisect_left(self.index,(kmer,-1))\n",
        "      while i < len(self.index):\n",
        "        if self.index[i][0] != kmer: break\n",
        "        hits.append(self.index[i][1])\n",
        "        i += 1\n",
        "            \n",
        "      return hits\n",
        "    \n",
        "    def query(self, p):\n",
        "      ''' Return occurrences of pattern p in t'''\n",
        "      kmer = p[:self.k]\n",
        "        \n",
        "      occurrences = []\n",
        "        \n",
        "      # Code to complete:\n",
        "      # Use self.queryKmer to find locations of prefix kmer of p in t\n",
        "      # For each location, ascertain if suffix of p matches the corresponding substring\n",
        "      # of t, returning occurrences\n",
        "      \n",
        "      hits = self.queryKmer(kmer)\n",
        "      for hit in hits:\n",
        "        if p[self.k:] == self.t[(hit+self.k):(hit+len(p))]:\n",
        "          occurrences.append(hit)\n",
        "            \n",
        "      return occurrences\n",
        "      \n",
        "     \n",
        "text = 'ACTTGGAGATCTTTGAGGCTAGGTATTCGGGATCGAAGCTCATTTCGGGGATCGATTACGATATGGTGGGTATTCGGGA'\n",
        "pattern = 'GGTATTCGGGA'\n",
        "K = 3\n",
        "\n",
        "index = Index(text, K)"
      ],
      "execution_count": 0,
      "outputs": []
    },
    {
      "metadata": {
        "id": "nYLOQCGv4-sK",
        "colab_type": "code",
        "outputId": "f11d3e3e-32c7-4039-993c-0fcb67f81d47",
        "colab": {
          "base_uri": "https://localhost:8080/",
          "height": 34
        }
      },
      "cell_type": "code",
      "source": [
        "# Test queryKmer method\n",
        "index.queryKmer(\"GGT\") == [21, 64, 68]"
      ],
      "execution_count": 0,
      "outputs": [
        {
          "output_type": "execute_result",
          "data": {
            "text/plain": [
              "True"
            ]
          },
          "metadata": {
            "tags": []
          },
          "execution_count": 24
        }
      ]
    },
    {
      "metadata": {
        "id": "iv8OP2Xi5HCJ",
        "colab_type": "code",
        "outputId": "2c0b9d34-bf4e-4e5e-be2b-34e399906902",
        "colab": {
          "base_uri": "https://localhost:8080/",
          "height": 34
        }
      },
      "cell_type": "code",
      "source": [
        "# Test query method\n",
        "index.query(pattern) == [21, 68]"
      ],
      "execution_count": 0,
      "outputs": [
        {
          "output_type": "execute_result",
          "data": {
            "text/plain": [
              "True"
            ]
          },
          "metadata": {
            "tags": []
          },
          "execution_count": 25
        }
      ]
    },
    {
      "metadata": {
        "id": "XVEVCzBU5leC",
        "colab_type": "code",
        "outputId": "4415e194-dd8e-4e6e-88f4-2164b8f53fac",
        "colab": {
          "base_uri": "https://localhost:8080/",
          "height": 34
        }
      },
      "cell_type": "code",
      "source": [
        "# Report index specificity\n",
        "float(len(index.query(pattern)))/len(index.queryKmer(pattern[:K]))"
      ],
      "execution_count": 0,
      "outputs": [
        {
          "output_type": "execute_result",
          "data": {
            "text/plain": [
              "0.6666666666666666"
            ]
          },
          "metadata": {
            "tags": []
          },
          "execution_count": 26
        }
      ]
    },
    {
      "metadata": {
        "id": "XMScHko85RzN",
        "colab_type": "code",
        "colab": {}
      },
      "cell_type": "code",
      "source": [
        "# Problem 2: Build a simple suffix array\n",
        "\n",
        "\n",
        "class SuffixArray(object):\n",
        "    def __init__(self, t):\n",
        "      ''' Create suffix array representing suffixes in t '''\n",
        "      \n",
        "      self.td = t + \"$\"\n",
        "      self.index = [] ## Array of integers representing lexicographically sorted suffixes of t\n",
        "      # e.g. for t$ = ATA$\n",
        "      # have suffixes\n",
        "      # 0 = ATA$\n",
        "      # 1 = TA$\n",
        "      # 2 = A$\n",
        "      # 3 = $\n",
        "      # such that self.index == [ 3, 2, 0, 1 ]\n",
        "      \n",
        "      # Code to complete - finish building self.index for t\n",
        "      temp_list = []\n",
        "      for i in range(len(self.td)):\n",
        "        temp_list.append((self.td[i:],i))\n",
        "      temp_list.sort()\n",
        "      self.index = [i[1] for i in temp_list]\n",
        "      \n",
        "    \n",
        "    def query(self, p):\n",
        "      ''' Return occurrences of pattern p in t'''\n",
        "      \n",
        "      query = []\n",
        "      \n",
        "      # Code to complete - find all occurrences of p in t by writing binary search\n",
        "      # function on self.index\n",
        "      left = 0\n",
        "      right = len(self.td)-1\n",
        "      while left < right:\n",
        "        m = int((left+right)/2)\n",
        "        if p <self.td[self.index[m]:]:\n",
        "          right = m\n",
        "          \n",
        "        else: \n",
        "          left = m + 1\n",
        "      query.append(self.index[left])\n",
        "          \n",
        "      right = len(self.td)-1\n",
        "      while left < right:\n",
        "        m = int((left+right)/2)\n",
        "        if self.td[self.index[right]:self.index[right]+len(p)] != p:\n",
        "          right = m\n",
        "        else: \n",
        "          left = m + 1\n",
        "      query.append(self.index[left])    \n",
        "          \n",
        "      return query\n",
        "      \n",
        "      \n",
        "      \n",
        "      \n",
        "      "
      ],
      "execution_count": 0,
      "outputs": []
    },
    {
      "metadata": {
        "id": "5YL7qI8uSWGc",
        "colab_type": "code",
        "outputId": "f8454ab8-80d4-4dbd-d88c-e5439ce9616b",
        "colab": {
          "base_uri": "https://localhost:8080/",
          "height": 34
        }
      },
      "cell_type": "code",
      "source": [
        "# Test suffix array construction\n",
        "sa = SuffixArray(\"ATA\")\n",
        "sa.index == [ 3, 2, 0, 1 ]"
      ],
      "execution_count": 0,
      "outputs": [
        {
          "output_type": "execute_result",
          "data": {
            "text/plain": [
              "True"
            ]
          },
          "metadata": {
            "tags": []
          },
          "execution_count": 67
        }
      ]
    },
    {
      "metadata": {
        "id": "oNaNt7xJSyt4",
        "colab_type": "code",
        "outputId": "48153808-d7ed-4a14-8a77-b9f63d36253a",
        "colab": {
          "base_uri": "https://localhost:8080/",
          "height": 34
        }
      },
      "cell_type": "code",
      "source": [
        "# Test suffix array search\n",
        "sa = SuffixArray(text)\n",
        "sorted(sa.query(pattern)) == [21, 68]"
      ],
      "execution_count": 0,
      "outputs": [
        {
          "output_type": "execute_result",
          "data": {
            "text/plain": [
              "True"
            ]
          },
          "metadata": {
            "tags": []
          },
          "execution_count": 70
        }
      ]
    }
  ]
}