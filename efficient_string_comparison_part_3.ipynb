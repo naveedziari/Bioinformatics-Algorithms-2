{
  "nbformat": 4,
  "nbformat_minor": 0,
  "metadata": {
    "colab": {
      "name": "Copy of efficient string comparison part 3.ipynb",
      "version": "0.3.2",
      "provenance": [],
      "collapsed_sections": []
    },
    "kernelspec": {
      "name": "python3",
      "display_name": "Python 3"
    }
  },
  "cells": [
    {
      "metadata": {
        "id": "173pjFDiwTdM",
        "colab_type": "code",
        "outputId": "3b5ff679-1154-4a47-b9c0-30732ad8f23d",
        "colab": {
          "base_uri": "https://localhost:8080/",
          "height": 34
        }
      },
      "cell_type": "code",
      "source": [
        "# Problem 1 - Build the BWT\n",
        "\n",
        "def makeBwt(t):\n",
        "  \"\"\"Create the BWT for the string t$\"\"\"\n",
        "  \n",
        "  td = t+'$'  \n",
        "  rotate_list = sorted([td[i:len(td)]+td[0:i] for i in range(len(td))])\n",
        "  output_string = ''.join([j[-1] for j in rotate_list])\n",
        "  return output_string\n",
        "\n",
        "text = \"GATTACA\"\n",
        "\n",
        "bwt = makeBwt(text)\n",
        "\n",
        "bwt == \"ACTGA$TA\""
      ],
      "execution_count": 1,
      "outputs": [
        {
          "output_type": "execute_result",
          "data": {
            "text/plain": [
              "True"
            ]
          },
          "metadata": {
            "tags": []
          },
          "execution_count": 1
        }
      ]
    },
    {
      "metadata": {
        "id": "LkOQQdDIzpz2",
        "colab_type": "code",
        "outputId": "26d84d20-acba-4f89-f0ec-34161ecda437",
        "colab": {
          "base_uri": "https://localhost:8080/",
          "height": 34
        }
      },
      "cell_type": "code",
      "source": [
        "# Problem 2 - Invert the BWT\n",
        "\n",
        "def invertBwt(bwt):\n",
        "  \"\"\"Inverts the Burrows-Wheeler Transform, returning the original string using \n",
        "  inefficent algorithm\"\"\"\n",
        "  \n",
        "  x = sorted(bwt)\n",
        "  for i in range(1,len(bwt)):\n",
        "    x = [str(bwt[j]+x[j]) for j in range(len(bwt))]\n",
        "    x.sort()\n",
        "  \n",
        "  text = x[0][1:]\n",
        "  \n",
        "  return text + '$'\n",
        "\n",
        "invertBwt(bwt) == text + \"$\""
      ],
      "execution_count": 2,
      "outputs": [
        {
          "output_type": "execute_result",
          "data": {
            "text/plain": [
              "True"
            ]
          },
          "metadata": {
            "tags": []
          },
          "execution_count": 2
        }
      ]
    },
    {
      "metadata": {
        "id": "KsnqBYpl7md2",
        "colab_type": "code",
        "outputId": "37929c5a-8d7e-46d6-9e31-e23d40d5cde6",
        "colab": {
          "base_uri": "https://localhost:8080/",
          "height": 34
        }
      },
      "cell_type": "code",
      "source": [
        "# Problem 3 - Complete Last-to-First mapping using FM-index\n",
        "\n",
        "class FmIndex(object):\n",
        "    def __init__(self, t, alphabet):\n",
        "      ''' Create FM-index for t in naive manner '''\n",
        "      \n",
        "      # Make the BWT \n",
        "      # We don't compress or anything here, but you could\n",
        "      self.bwt = makeBwt(t)\n",
        "      \n",
        "      # Calculate C lookup dictionary in crappy way\n",
        "      s = sorted(self.bwt)\n",
        "      self.C = {}\n",
        "      for i in range(len(s)-1, -1, -1):\n",
        "        self.C[s[i]] = i\n",
        "      \n",
        "      # Calculate full Occ table in similarly crappy way\n",
        "      # Recall, this is not using sampling and is therefore\n",
        "      # very memory inefficient \n",
        "      self.Occ = [ {} for i in range(len(self.bwt)) ]\n",
        "      for i in range(len(self.bwt)):\n",
        "        for j in alphabet + \"$\":\n",
        "          p = self.Occ[i-1][j] if i > 0 else 0\n",
        "          self.Occ[i][j] = p + (1 if self.bwt[i] == j else 0)\n",
        "\n",
        "    def lf(self, i):\n",
        "      \"\"\" Return the last-to-first mapping for index i of the bwt \"\"\"\n",
        "      \n",
        "      L = self.bwt[i]\n",
        "\n",
        "      return self.C[L] + self.Occ[i][L] -1\n",
        "      \n",
        "      \n",
        "\n",
        "dnaAlphabet = \"ACGT\"\n",
        "fmIndex = FmIndex(text, dnaAlphabet)\n",
        "\n",
        "fmIndex.lf(5) == 0"
      ],
      "execution_count": 5,
      "outputs": [
        {
          "output_type": "execute_result",
          "data": {
            "text/plain": [
              "True"
            ]
          },
          "metadata": {
            "tags": []
          },
          "execution_count": 5
        }
      ]
    },
    {
      "metadata": {
        "id": "XO8RDtA5W9aI",
        "colab_type": "code",
        "outputId": "1e0bfe05-246c-4a40-bb4d-48b41ac8fd11",
        "colab": {
          "base_uri": "https://localhost:8080/",
          "height": 34
        }
      },
      "cell_type": "code",
      "source": [
        "# Problem 4 - Use backward search to invert the BWT\n",
        "\n",
        "def invertBwtUsingFmIndex(fmIndex):\n",
        "  \"\"\" Returns t by using repeated lf search to reconstruct t$ backwards\"\"\"\n",
        "  \n",
        "  # Code to write\n",
        "  ## Hint: start from location of \"$\"  in bwt, then walk backwards using fmIndex.lf\n",
        "  ## function to build t\n",
        "  row = fmIndex.bwt.index('$')\n",
        "  temp_string = []\n",
        "  for i in range(len(fmIndex.bwt)):\n",
        "    temp_string.append(bwt[row])\n",
        "    row = fmIndex.lf(row)\n",
        "  \n",
        "  return ''.join(temp_string[::-1])\n",
        "  \n",
        "  \n",
        "\n",
        "invertBwtUsingFmIndex(fmIndex) == \"GATTACA$\""
      ],
      "execution_count": 9,
      "outputs": [
        {
          "output_type": "execute_result",
          "data": {
            "text/plain": [
              "True"
            ]
          },
          "metadata": {
            "tags": []
          },
          "execution_count": 9
        }
      ]
    },
    {
      "metadata": {
        "id": "khGNJCfkhInl",
        "colab_type": "text"
      },
      "cell_type": "markdown",
      "source": [
        "Problem 4 questions:\n",
        "\n",
        "Q: What is the asymptotic runtime of your invertBwtUsingFmIndex function?\n",
        "\n",
        "O(n^2)\n",
        "\n",
        "Q2: How does this to compare to the runtime of the invertBWT function?\n",
        "\n",
        "O(n^3)"
      ]
    },
    {
      "metadata": {
        "id": "Y5XishWt29jy",
        "colab_type": "code",
        "colab": {}
      },
      "cell_type": "code",
      "source": [
        "\n",
        "# Extra credit: adapt the FmIndex class and add a pattern query method to search for instance of input pattern in t"
      ],
      "execution_count": 0,
      "outputs": []
    }
  ]
}