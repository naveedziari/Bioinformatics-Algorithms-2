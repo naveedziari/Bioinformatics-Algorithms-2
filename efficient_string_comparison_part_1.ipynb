{
  "nbformat": 4,
  "nbformat_minor": 0,
  "metadata": {
    "colab": {
      "name": "efficient string comparison part 1.ipynb",
      "version": "0.3.2",
      "provenance": [],
      "collapsed_sections": []
    },
    "kernelspec": {
      "name": "python3",
      "display_name": "Python 3"
    }
  },
  "cells": [
    {
      "metadata": {
        "id": "s92l617dK0qU",
        "colab_type": "code",
        "outputId": "bdd25d8b-c296-489c-ab7c-be50b92ab5e1",
        "colab": {
          "base_uri": "https://localhost:8080/",
          "height": 34
        }
      },
      "cell_type": "code",
      "source": [
        "# Problem 1 - implement a naive string matching algorithm:\n",
        "\n",
        "pattern = \"CCTTTTGC\"\n",
        "text = \"CGTGCCTACTTACTTACTTACCTTTTGCCTTTTGCACGCGAA\"\n",
        "\n",
        "def naive(p, t):\n",
        "  characterComparisons = 0\n",
        "  occurrences = []\n",
        "  \n",
        "  for i in range(len(t)-len(p)+1):\n",
        "    match = True\n",
        "    for j in range(len(p)):\n",
        "      characterComparisons += 1\n",
        "      if t[i+j] != p[j]:\n",
        "        match = False\n",
        "        break\n",
        "    if match:\n",
        "      occurrences.append(i)\n",
        "\n",
        "  return occurrences, characterComparisons\n",
        "\n",
        "naive(pattern, text) == ([20, 27], 60)\n"
      ],
      "execution_count": 20,
      "outputs": [
        {
          "output_type": "execute_result",
          "data": {
            "text/plain": [
              "True"
            ]
          },
          "metadata": {
            "tags": []
          },
          "execution_count": 20
        }
      ]
    },
    {
      "metadata": {
        "id": "DPZWlfxCLk-0",
        "colab_type": "code",
        "outputId": "f404b104-be5a-4bb7-bdf0-ae1d10d51c65",
        "colab": {
          "base_uri": "https://localhost:8080/",
          "height": 34
        }
      },
      "cell_type": "code",
      "source": [
        "# Problem 2 - implement the bad character rule:\n",
        "\n",
        "dnaAlphabet=\"ACGT\"\n",
        "\n",
        "def makeBadCharacterRuleLookupTable(p, alphabet):\n",
        "  \n",
        "  # Make len(alphabet) x len(p) lookup table\n",
        "  badCharacterRuleLookupTable = [ [1]*len(alphabet) for i in range(len(p)) ]\n",
        "  \n",
        "  for i in range(len(p)):\n",
        "    for j in range(len(dnaAlphabet)):\n",
        "      k = i - 1\n",
        "      while k >= 0:\n",
        "        if p[k] != dnaAlphabet[j]:\n",
        "          badCharacterRuleLookupTable[i][j] += 1\n",
        "          k -= 1\n",
        "        else: break\n",
        "  \n",
        "  \n",
        "  return badCharacterRuleLookupTable\n",
        "      \n",
        "          \n",
        "makeBadCharacterRuleLookupTable(pattern, dnaAlphabet) == [[1, 1, 1, 1],\n",
        " [2, 1, 2, 2],\n",
        " [3, 1, 3, 3],\n",
        " [4, 2, 4, 1],\n",
        " [5, 3, 5, 1],\n",
        " [6, 4, 6, 1],\n",
        " [7, 5, 7, 1],\n",
        " [8, 6, 1, 2]]"
      ],
      "execution_count": 6,
      "outputs": [
        {
          "output_type": "execute_result",
          "data": {
            "text/plain": [
              "True"
            ]
          },
          "metadata": {
            "tags": []
          },
          "execution_count": 6
        }
      ]
    },
    {
      "metadata": {
        "id": "EnSKkm5k1FvN",
        "colab_type": "code",
        "outputId": "f845d225-c354-443e-e0ba-294c2d1d7a40",
        "colab": {
          "base_uri": "https://localhost:8080/",
          "height": 34
        }
      },
      "cell_type": "code",
      "source": [
        "# Problem 3 - use the bad character rule lookup table to reduce the total number of character comparisons\n",
        "\n",
        "def naivePlusBadCharacter(p, t, bclut, alphabet):\n",
        "  characterComparisons = 0\n",
        "  occurrences = []\n",
        "  \n",
        "  alphabet_dict = {alphabet[i]:i for i in range(len(alphabet))} #avoid quadratic behavior with .index\n",
        "  i = 0\n",
        "  while (i < (len(t)-len(p)+1)):\n",
        "    temp_string = t[i:(i+len(p))]\n",
        "    for j in range(len(p)):\n",
        "      match = True\n",
        "      characterComparisons += 1\n",
        "      if temp_string[::-1][j] != p[::-1][j]:\n",
        "        match = False\n",
        "        i += bclut[len(p)-j-1][alphabet_dict[temp_string[::-1][j]]]\n",
        "        break\n",
        "    if match:\n",
        "      occurrences.append(i)\n",
        "      i += 1\n",
        "\n",
        "  return occurrences, characterComparisons\n",
        "\n",
        "bclut = makeBadCharacterRuleLookupTable(pattern, dnaAlphabet)\n",
        "naivePlusBadCharacter(pattern, text, bclut, dnaAlphabet) == ([20, 27], 24)"
      ],
      "execution_count": 38,
      "outputs": [
        {
          "output_type": "execute_result",
          "data": {
            "text/plain": [
              "True"
            ]
          },
          "metadata": {
            "tags": []
          },
          "execution_count": 38
        }
      ]
    }
  ]
}